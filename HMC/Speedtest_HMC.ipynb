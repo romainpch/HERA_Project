{
 "cells": [
  {
   "cell_type": "markdown",
   "metadata": {},
   "source": [
    "# Performace tests for HMC "
   ]
  },
  {
   "cell_type": "code",
   "execution_count": 25,
   "metadata": {},
   "outputs": [],
   "source": [
    "import autograd.numpy as np\n",
    "from autograd.scipy.special import logsumexp\n",
    "import matplotlib.pyplot as plt\n",
    "%matplotlib inline\n",
    "from autograd import grad\n",
    "import scipy.stats as st\n",
    "import math\n",
    "\n",
    "import time\n",
    "from pyhmc import hmc\n",
    "\n",
    "import pymc3 as pm"
   ]
  },
  {
   "cell_type": "markdown",
   "metadata": {},
   "source": [
    "## BASIC HMC"
   ]
  },
  {
   "cell_type": "code",
   "execution_count": 16,
   "metadata": {},
   "outputs": [],
   "source": [
    "\n",
    "def neg_log_normal(mu, sigma):\n",
    "    \"\"\"\n",
    "    logp(x | mu, sigma) = 0.5 * log(2π) + log(σ) + 0.5 * ((x - μ)/σ)^2\n",
    "    \"\"\"\n",
    "\n",
    "    def logp(x):\n",
    "        return 0.5 * (np.log(2 * np.pi * sigma * sigma) + ((x - mu) / sigma) ** 2)\n",
    "\n",
    "    return logp\n",
    "\n",
    "def neg_log_mvnormal(mu, sigma):\n",
    "    \"\"\"Use a Cholesky decomposition for more careful work.\"\"\"\n",
    "\n",
    "    def logp(x):\n",
    "        k = mu.shape[0]\n",
    "        return (\n",
    "            k * np.log(2 * np.pi)\n",
    "            + np.log(np.linalg.det(sigma))\n",
    "            + np.dot(np.dot((x - mu).T, np.linalg.inv(sigma)), x - mu)\n",
    "        ) * 0.5\n",
    "\n",
    "    return logp"
   ]
  },
  {
   "cell_type": "code",
   "execution_count": 17,
   "metadata": {},
   "outputs": [],
   "source": [
    "\n",
    "\n",
    "#Leapfrog algorithm\n",
    "def leapfrog(q,p,dVdq,path_len,step_size) :\n",
    "    '''\n",
    "    inputs :\n",
    "    --------\n",
    "    q,p (float)^D -> initial position and momentum\n",
    "    dVdq (function)-> Gradient of velocity\n",
    "    path_len (float) -> How long each integration path is\n",
    "    step_size (float) -> How long each integration step shold be\n",
    "    \n",
    "    Outputs :\n",
    "    ---------\n",
    "    q,p -> new position and momentum\n",
    "    '''\n",
    "    q, p = np.copy(q), np.copy(p)\n",
    "\n",
    "    p -= step_size * dVdq(q) / 2  # half step\n",
    "    for _ in range(int(path_len / step_size) - 1):\n",
    "        q += step_size * p  # whole step\n",
    "        p -= step_size * dVdq(q)  # whole step\n",
    "    q += step_size * p  # whole step\n",
    "    p -= step_size * dVdq(q) / 2  # half step\n",
    "\n",
    "    # momentum flip at end\n",
    "    return q, -p\n",
    "    \n",
    "\n",
    "\n",
    "#Hamiltonian Monte Carlo Technique \n",
    "def HMC(n_samples, negative_log_prob, initial_position, path_len=1, step_size = 0.1) :\n",
    "    '''\n",
    "    inputs :\n",
    "    --------\n",
    "    n_samples (int) -> Number of samples to return\n",
    "    negative_log_prob (function) -> Negative log probability to sample from\n",
    "    initial_position (np.array) -> Where we start sampling from\n",
    "    path_len (float) -> How long each integration path is. Smaller is faster and more correlated.\n",
    "    step_size (float) -> How long each integration step is. Smaller is slower and more accurate.\n",
    "    \n",
    "    Outputs :\n",
    "    ---------\n",
    "    An array of length n_samples\n",
    "    ''' \n",
    "\n",
    "    dVdq = grad(negative_log_prob)\n",
    "    \n",
    "    samples = [initial_position]\n",
    "    \n",
    "    momentum = st.norm(0, 1)\n",
    "    \n",
    "    size = (n_samples,) + initial_position.shape[:1]\n",
    "    for p0 in momentum.rvs(size=size):\n",
    "        # Integrate over our path to get a new position and momentum\n",
    "        q_new, p_new = leapfrog(\n",
    "            samples[-1],\n",
    "            p0,\n",
    "            dVdq,\n",
    "            path_len=path_len,\n",
    "            step_size=step_size,\n",
    "        )\n",
    "\n",
    "        # Check Metropolis acceptance criterion\n",
    "        start_log_p = negative_log_prob(samples[-1]) - np.sum(momentum.logpdf(p0))\n",
    "        new_log_p = negative_log_prob(q_new) - np.sum(momentum.logpdf(p_new))\n",
    "        if np.log(np.random.rand()) < start_log_p - new_log_p:\n",
    "            samples.append(q_new)\n",
    "        else:\n",
    "            samples.append(np.copy(samples[-1]))\n",
    "\n",
    "    return np.array(samples[1:])"
   ]
  },
  {
   "cell_type": "markdown",
   "metadata": {},
   "source": [
    "## PYHMC"
   ]
  },
  {
   "cell_type": "code",
   "execution_count": 22,
   "metadata": {},
   "outputs": [],
   "source": [
    "def logp_pyhmc(x, ivar):\n",
    "    logp = -0.5 * np.sum(ivar * x**2)\n",
    "    grad = -ivar * x\n",
    "    return logp, grad"
   ]
  },
  {
   "cell_type": "markdown",
   "metadata": {},
   "source": [
    "## PYMC3"
   ]
  },
  {
   "cell_type": "markdown",
   "metadata": {},
   "source": [
    "### Speed comparison : evolution of time with dimension"
   ]
  },
  {
   "cell_type": "code",
   "execution_count": 52,
   "metadata": {},
   "outputs": [
    {
     "name": "stderr",
     "output_type": "stream",
     "text": [
      "Sequential sampling (1 chains in 1 job)\n",
      "HamiltonianMC: [x]\n",
      "Sampling chain 0, 0 divergences: 100%|██████████| 1500/1500 [00:00<00:00, 1515.12it/s]\n",
      "Only one chain was sampled, this makes it impossible to run some convergence checks\n",
      "Sequential sampling (1 chains in 1 job)\n",
      "HamiltonianMC: [x]\n",
      "Sampling chain 0, 0 divergences: 100%|██████████| 1500/1500 [00:01<00:00, 1471.10it/s]\n",
      "The acceptance probability does not match the target. It is 0.7583736591672959, but should be close to 0.65. Try to increase the number of tuning steps.\n",
      "Only one chain was sampled, this makes it impossible to run some convergence checks\n",
      "Sequential sampling (1 chains in 1 job)\n",
      "HamiltonianMC: [x]\n",
      "Sampling chain 0, 0 divergences: 100%|██████████| 1500/1500 [00:01<00:00, 1446.77it/s]\n",
      "Only one chain was sampled, this makes it impossible to run some convergence checks\n",
      "Sequential sampling (1 chains in 1 job)\n",
      "HamiltonianMC: [x]\n",
      "Sampling chain 0, 0 divergences: 100%|██████████| 1500/1500 [00:01<00:00, 1282.03it/s]\n",
      "Only one chain was sampled, this makes it impossible to run some convergence checks\n",
      "Sequential sampling (1 chains in 1 job)\n",
      "HamiltonianMC: [x]\n",
      "Sampling chain 0, 0 divergences: 100%|██████████| 1500/1500 [00:01<00:00, 1137.30it/s]\n",
      "Only one chain was sampled, this makes it impossible to run some convergence checks\n",
      "Sequential sampling (1 chains in 1 job)\n",
      "HamiltonianMC: [x]\n",
      "Sampling chain 0, 0 divergences: 100%|██████████| 1500/1500 [00:01<00:00, 1051.34it/s]\n",
      "Only one chain was sampled, this makes it impossible to run some convergence checks\n",
      "Sequential sampling (1 chains in 1 job)\n",
      "HamiltonianMC: [x]\n",
      "Sampling chain 0, 0 divergences: 100%|██████████| 1500/1500 [00:01<00:00, 896.13it/s]\n",
      "Only one chain was sampled, this makes it impossible to run some convergence checks\n",
      "Sequential sampling (1 chains in 1 job)\n",
      "HamiltonianMC: [x]\n",
      "Sampling chain 0, 0 divergences: 100%|██████████| 1500/1500 [00:02<00:00, 706.45it/s]\n",
      "Only one chain was sampled, this makes it impossible to run some convergence checks\n",
      "Sequential sampling (1 chains in 1 job)\n",
      "HamiltonianMC: [x]\n",
      "Sampling chain 0, 0 divergences: 100%|██████████| 1500/1500 [00:03<00:00, 467.57it/s]\n",
      "Only one chain was sampled, this makes it impossible to run some convergence checks\n",
      "Sequential sampling (1 chains in 1 job)\n",
      "HamiltonianMC: [x]\n",
      "Sampling chain 0, 0 divergences: 100%|██████████| 1500/1500 [00:07<00:00, 197.19it/s]\n",
      "Only one chain was sampled, this makes it impossible to run some convergence checks\n"
     ]
    }
   ],
   "source": [
    "N_sample = 1000\n",
    "d_max = 10\n",
    "times = [0 for i in range(d_max)]\n",
    "\n",
    "for d in range(d_max) :\n",
    "    D = 2**d\n",
    "    \n",
    "    #BASIC HMC\n",
    "    logp_basic = neg_log_mvnormal(np.zeros(D),np.eye(D))\n",
    "    x0_basic = np.random.randn(D)\n",
    "    t_i_basic = time.time()\n",
    "    samples_basic = HMC(N_sample,logp_basic,x0_basic)\n",
    "    t_basic = time.time() - t_i_basic\n",
    "    \n",
    "    #PYHMC\n",
    "    ivar = np.ones(D)\n",
    "    x0_pyhmc=np.random.randn(D)\n",
    "    t_i_pyhmc = time.time()\n",
    "    samples_pyhmc = hmc(logp_pyhmc, x0=x0_pyhmc, args=(ivar,), n_samples=N_sample)\n",
    "    t_pyhmc = time.time() - t_i_pyhmc\n",
    "\n",
    "    #PYMC3\n",
    "    with pm.Model() as multiNorm :\n",
    "        x = pm.MvNormal('x', mu=np.zeros(D), cov=np.eye(D),shape=D)\n",
    "    \n",
    "    \n",
    "    t_i_pymc3 = time.time()\n",
    "    with multiNorm :\n",
    "        samples_pymc3 = pm.sample(draws=N_sample, chains=1, init=None, step=pm.HamiltonianMC()).get_values('x')\n",
    "    t_pymc3 = time.time() - t_i_pymc3\n",
    "    \n",
    "    times[d] = [t_basic,t_pyhmc,t_pymc3] "
   ]
  },
  {
   "cell_type": "code",
   "execution_count": 58,
   "metadata": {},
   "outputs": [
    {
     "data": {
      "text/plain": [
       "<matplotlib.legend.Legend at 0x7fda4a126150>"
      ]
     },
     "execution_count": 58,
     "metadata": {},
     "output_type": "execute_result"
    },
    {
     "data": {
      "image/png": "[encoded data removed]",
      "text/plain": [
       "<Figure size 432x288 with 1 Axes>"
      ]
     },
     "metadata": {
      "needs_background": "light"
     },
     "output_type": "display_data"
    }
   ],
   "source": [
    "x = [2**d for d in range(d_max)]\n",
    "ys = np.array(times)\n",
    "plt.plot(x,ys[:,0],label='basic_HMC')\n",
    "plt.plot(x,ys[:,1],label='PYHMC')\n",
    "plt.plot(x,ys[:,2],label='PYMC3')\n",
    "plt.xlabel('Dimension')\n",
    "plt.ylabel('Time needed to compute HMC')\n",
    "plt.legend()"
   ]
  },
  {
   "cell_type": "markdown",
   "metadata": {},
   "source": [
    "### Speed comparison : evolution of time with Number of samples"
   ]
  },
  {
   "cell_type": "code",
   "execution_count": 55,
   "metadata": {},
   "outputs": [
    {
     "name": "stderr",
     "output_type": "stream",
     "text": [
      "Only 1 samples in chain.\n",
      "Sequential sampling (1 chains in 1 job)\n",
      "HamiltonianMC: [x]\n",
      "Sampling chain 0, 0 divergences: 100%|██████████| 501/501 [00:00<00:00, 1171.62it/s]\n",
      "Only 10 samples in chain.\n",
      "Sequential sampling (1 chains in 1 job)\n",
      "HamiltonianMC: [x]\n",
      "Sampling chain 0, 0 divergences: 100%|██████████| 510/510 [00:00<00:00, 1187.03it/s]\n",
      "Only 100 samples in chain.\n",
      "Sequential sampling (1 chains in 1 job)\n",
      "HamiltonianMC: [x]\n",
      "Sampling chain 0, 0 divergences: 100%|██████████| 600/600 [00:00<00:00, 1233.10it/s]\n",
      "Only one chain was sampled, this makes it impossible to run some convergence checks\n",
      "Sequential sampling (1 chains in 1 job)\n",
      "HamiltonianMC: [x]\n",
      "Sampling chain 0, 0 divergences: 100%|██████████| 1500/1500 [00:01<00:00, 1480.53it/s]\n",
      "Only one chain was sampled, this makes it impossible to run some convergence checks\n",
      "Sequential sampling (1 chains in 1 job)\n",
      "HamiltonianMC: [x]\n",
      "Sampling chain 0, 0 divergences: 100%|██████████| 10500/10500 [00:06<00:00, 1640.58it/s]\n",
      "The acceptance probability does not match the target. It is 0.7478457453780627, but should be close to 0.65. Try to increase the number of tuning steps.\n",
      "Only one chain was sampled, this makes it impossible to run some convergence checks\n"
     ]
    }
   ],
   "source": [
    "D = 3\n",
    "t_max = 5\n",
    "times_NoS = [0 for i in range(t_max)]\n",
    "\n",
    "for t in range(t_max) :\n",
    "    T = 10**t\n",
    "    \n",
    "    #BASIC HMC\n",
    "    logp_basic = neg_log_mvnormal(np.zeros(D),np.eye(D))\n",
    "    x0_basic = np.random.randn(D)\n",
    "    t_i_basic = time.time()\n",
    "    samples_basic = HMC(T,logp_basic,x0_basic)\n",
    "    t_basic = time.time() - t_i_basic\n",
    "    \n",
    "    #PYHMC\n",
    "    ivar = np.ones(D)\n",
    "    x0_pyhmc=np.random.randn(D)\n",
    "    t_i_pyhmc = time.time()\n",
    "    samples_pyhmc = hmc(logp_pyhmc, x0=x0_pyhmc, args=(ivar,), n_samples=T)\n",
    "    t_pyhmc = time.time() - t_i_pyhmc\n",
    "\n",
    "    #PYMC3\n",
    "    with pm.Model() as multiNorm :\n",
    "        x = pm.MvNormal('x', mu=np.zeros(D), cov=np.eye(D),shape=D)\n",
    "    \n",
    "    \n",
    "    t_i_pymc3 = time.time()\n",
    "    with multiNorm :\n",
    "        samples_pymc3 = pm.sample(draws=T, chains=1, init=None, step=pm.HamiltonianMC()).get_values('x')\n",
    "    t_pymc3 = time.time() - t_i_pymc3\n",
    "    \n",
    "    times_NoS[t] = [t_basic,t_pyhmc,t_pymc3] "
   ]
  },
  {
   "cell_type": "code",
   "execution_count": 59,
   "metadata": {},
   "outputs": [
    {
     "data": {
      "text/plain": [
       "<matplotlib.legend.Legend at 0x7fda4a6f6310>"
      ]
     },
     "execution_count": 59,
     "metadata": {},
     "output_type": "execute_result"
    },
    {
     "data": {
      "image/png": "[encoded data removed]",
      "text/plain": [
       "<Figure size 432x288 with 1 Axes>"
      ]
     },
     "metadata": {
      "needs_background": "light"
     },
     "output_type": "display_data"
    }
   ],
   "source": [
    "x = [10**t for t in range(t_max)]\n",
    "ys = np.array(times_NoS)\n",
    "plt.plot(x,ys[:,0],label='basic_HMC')\n",
    "plt.plot(x,ys[:,1],label='PYHMC')\n",
    "plt.plot(x,ys[:,2],label='PYMC3')\n",
    "plt.xlabel('Number of samples')\n",
    "plt.ylabel('Time needed to compute HMC')\n",
    "plt.legend()"
   ]
  },
  {
   "cell_type": "code",
   "execution_count": null,
   "metadata": {},
   "outputs": [],
   "source": []
  },
  {
   "cell_type": "code",
   "execution_count": null,
   "metadata": {},
   "outputs": [],
   "source": []
  },
  {
   "cell_type": "code",
   "execution_count": null,
   "metadata": {},
   "outputs": [],
   "source": []
  },
  {
   "cell_type": "code",
   "execution_count": null,
   "metadata": {},
   "outputs": [],
   "source": []
  },
  {
   "cell_type": "code",
   "execution_count": 7,
   "metadata": {},
   "outputs": [
    {
     "ename": "NameError",
     "evalue": "name 'time' is not defined",
     "output_type": "error",
     "traceback": [
      "\u001b[0;31m---------------------------------------------------------------------------\u001b[0m",
      "\u001b[0;31mNameError\u001b[0m                                 Traceback (most recent call last)",
      "\u001b[0;32m<ipython-input-7-4db9e30c4a7d>\u001b[0m in \u001b[0;36m<module>\u001b[0;34m\u001b[0m\n\u001b[1;32m      4\u001b[0m \u001b[0mivar\u001b[0m \u001b[0;34m=\u001b[0m \u001b[0;36m1.\u001b[0m \u001b[0;34m/\u001b[0m \u001b[0mnp\u001b[0m\u001b[0;34m.\u001b[0m\u001b[0mrandom\u001b[0m\u001b[0;34m.\u001b[0m\u001b[0mrand\u001b[0m\u001b[0;34m(\u001b[0m\u001b[0mN_params\u001b[0m\u001b[0;34m)\u001b[0m\u001b[0;34m\u001b[0m\u001b[0;34m\u001b[0m\u001b[0m\n\u001b[1;32m      5\u001b[0m \u001b[0;34m\u001b[0m\u001b[0m\n\u001b[0;32m----> 6\u001b[0;31m \u001b[0mstart\u001b[0m \u001b[0;34m=\u001b[0m \u001b[0mtime\u001b[0m\u001b[0;34m.\u001b[0m\u001b[0mtime\u001b[0m\u001b[0;34m(\u001b[0m\u001b[0;34m)\u001b[0m\u001b[0;34m\u001b[0m\u001b[0;34m\u001b[0m\u001b[0m\n\u001b[0m\u001b[1;32m      7\u001b[0m \u001b[0msamples\u001b[0m \u001b[0;34m=\u001b[0m \u001b[0mhmc\u001b[0m\u001b[0;34m(\u001b[0m\u001b[0mlogprob\u001b[0m\u001b[0;34m,\u001b[0m \u001b[0mx0\u001b[0m\u001b[0;34m=\u001b[0m\u001b[0mnp\u001b[0m\u001b[0;34m.\u001b[0m\u001b[0mrandom\u001b[0m\u001b[0;34m.\u001b[0m\u001b[0mrandn\u001b[0m\u001b[0;34m(\u001b[0m\u001b[0mN_params\u001b[0m\u001b[0;34m)\u001b[0m\u001b[0;34m,\u001b[0m \u001b[0margs\u001b[0m\u001b[0;34m=\u001b[0m\u001b[0;34m(\u001b[0m\u001b[0mivar\u001b[0m\u001b[0;34m,\u001b[0m\u001b[0;34m)\u001b[0m\u001b[0;34m,\u001b[0m \u001b[0mn_samples\u001b[0m\u001b[0;34m=\u001b[0m\u001b[0mN_samples\u001b[0m\u001b[0;34m)\u001b[0m\u001b[0;34m\u001b[0m\u001b[0;34m\u001b[0m\u001b[0m\n\u001b[1;32m      8\u001b[0m \u001b[0mprint\u001b[0m\u001b[0;34m(\u001b[0m\u001b[0;34m'Time needed to compute HMC: '\u001b[0m\u001b[0;34m+\u001b[0m \u001b[0mstr\u001b[0m\u001b[0;34m(\u001b[0m\u001b[0mtime\u001b[0m\u001b[0;34m.\u001b[0m\u001b[0mtime\u001b[0m\u001b[0;34m(\u001b[0m\u001b[0;34m)\u001b[0m\u001b[0;34m-\u001b[0m\u001b[0mstart\u001b[0m\u001b[0;34m)\u001b[0m \u001b[0;34m+\u001b[0m \u001b[0;34m' s'\u001b[0m\u001b[0;34m)\u001b[0m\u001b[0;34m\u001b[0m\u001b[0;34m\u001b[0m\u001b[0m\n",
      "\u001b[0;31mNameError\u001b[0m: name 'time' is not defined"
     ]
    }
   ],
   "source": [
    "N_params = 3\n",
    "N_samples = 100000\n",
    "\n",
    "\n",
    "\n",
    "start = time.time()\n",
    "samples = hmc(logprob, x0=np.random.randn(N_params), args=(ivar,), n_samples=N_samples)\n",
    "print('Time needed to compute HMC: '+ str(time.time()-start) + ' s')"
   ]
  }
 ],
 "metadata": {
  "kernelspec": {
   "display_name": "Python 3",
   "language": "python",
   "name": "python3"
  },
  "language_info": {
   "codemirror_mode": {
    "name": "ipython",
    "version": 3
   },
   "file_extension": ".py",
   "mimetype": "text/x-python",
   "name": "python",
   "nbconvert_exporter": "python",
   "pygments_lexer": "ipython3",
   "version": "3.7.5"
  }
 },
 "nbformat": 4,
 "nbformat_minor": 4
}
